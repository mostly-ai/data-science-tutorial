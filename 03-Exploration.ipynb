{
 "cells": [
  {
   "cell_type": "markdown",
   "metadata": {},
   "source": [
    "# Part III: Exploratory data analysis"
   ]
  },
  {
   "cell_type": "markdown",
   "metadata": {},
   "source": [
    "In this part, we will use different types of graphics to explore a dataset visually. The pacakges used for data visualisation are `matplotlib` and `seaborn`."
   ]
  },
  {
   "cell_type": "code",
   "execution_count": null,
   "metadata": {},
   "outputs": [],
   "source": [
    "import pandas as pd\n",
    "import numpy as np\n",
    "import seaborn as sns\n",
    "import matplotlib.pyplot as plt"
   ]
  },
  {
   "cell_type": "markdown",
   "metadata": {},
   "source": [
    "In this example, we will use a dataset from the 2017 Stack Overflow Developer Survey. The analysis broadly follows a post in the Stack Overflow blog focusing on an unexpected result of the survey, the entire blog post can be found here: https://stackoverflow.blog/2017/06/15/developers-use-spaces-make-money-use-tabs/\n",
    "\n",
    "First, we will read the data and do some preprocessing of the variables:"
   ]
  },
  {
   "cell_type": "code",
   "execution_count": null,
   "metadata": {
    "collapsed": true
   },
   "outputs": [],
   "source": [
    "so = pd.read_csv('survey_results_public.csv', \n",
    "                 usecols=['Respondent', 'Country', 'DeveloperType', 'YearsCodedJob', 'TabsSpaces', \n",
    "                          'JobSatisfaction', 'Salary', 'HaveWorkedLanguage'])\n",
    "so.set_index('Respondent', inplace=True)"
   ]
  },
  {
   "cell_type": "markdown",
   "metadata": {},
   "source": [
    "We restrict our analysis to five of the largest countries, and lump the other countries together in a category level called 'Other':"
   ]
  },
  {
   "cell_type": "code",
   "execution_count": null,
   "metadata": {},
   "outputs": [],
   "source": [
    "countries = ['United States', 'India', 'United Kingdom', 'Germany', 'Canada']\n",
    "so.loc[~so.Country.isin(countries), 'Country'] = 'Other'\n",
    "so.Country = so.Country.astype('category')"
   ]
  },
  {
   "cell_type": "markdown",
   "metadata": {},
   "source": [
    "We will be focusing on the question whether a developer prefers tabs or spaces, and we therefore exclude all respondents who did not answer that question:"
   ]
  },
  {
   "cell_type": "code",
   "execution_count": null,
   "metadata": {},
   "outputs": [],
   "source": [
    "so = so[so.TabsSpaces.notnull()]"
   ]
  },
  {
   "cell_type": "markdown",
   "metadata": {},
   "source": [
    "We recode the number of years of professional coding experience into four categories:"
   ]
  },
  {
   "cell_type": "code",
   "execution_count": null,
   "metadata": {
    "collapsed": true
   },
   "outputs": [],
   "source": [
    "so.loc[so.YearsCodedJob.isin(\n",
    "    ['Less than a year', '1 to 2 years', '2 to 3 years', '3 to 4 years', '4 to 5 years']), 'YearsCodedJob'] = '< 5y'\n",
    "so.loc[so.YearsCodedJob.isin(\n",
    "    ['5 to 6 years', '6 to 7 years', '7 to 8 years', '8 to 9 years', '9 to 10 years']), 'YearsCodedJob'] = '6-10'\n",
    "so.loc[so.YearsCodedJob.isin(\n",
    "    ['10 to 11 years', '11 to 12 years', '12 to 13 years', '13 to 14 years', '14 to 15 years']), 'YearsCodedJob'] = '11-15'\n",
    "so.loc[so.YearsCodedJob.isin(\n",
    "    ['15 to 16 years', '16 to 17 years', '17 to 18 years', '18 to 19 years', '19 to 20 years', '20 or more years']), 'YearsCodedJob'] = '15+'"
   ]
  },
  {
   "cell_type": "markdown",
   "metadata": {
    "collapsed": true
   },
   "source": [
    "Show plots in the notebook:"
   ]
  },
  {
   "cell_type": "code",
   "execution_count": null,
   "metadata": {},
   "outputs": [],
   "source": [
    "%matplotlib inline"
   ]
  },
  {
   "cell_type": "markdown",
   "metadata": {},
   "source": [
    "Let's start with boxplots showing the distribution of salaries according to the tab/spaces preference:"
   ]
  },
  {
   "cell_type": "code",
   "execution_count": null,
   "metadata": {},
   "outputs": [],
   "source": [
    "sns.boxplot(x=so.TabsSpaces, y=so.Salary, order=['Tabs', 'Both', 'Spaces'])"
   ]
  },
  {
   "cell_type": "markdown",
   "metadata": {},
   "source": [
    "The boxplot is a relatively simple plot that nonetheless conveys a lot of information: The boxes span the range from the 25% to the 75% quantile of the data (in this case: each group), with a center line at the median. We can thus see that there seems to be a difference in salary between developers prefering spaces and developers using tabs or a mix of tabs and spaces.\n",
    "\n",
    "Barplots are another common way to compare groups. To build a barplot visualizing the same difference in medians, we need to first calculate the median salaries by group:"
   ]
  },
  {
   "cell_type": "code",
   "execution_count": null,
   "metadata": {},
   "outputs": [],
   "source": [
    "by_countries = so.groupby(['Country', 'TabsSpaces']).median()"
   ]
  },
  {
   "cell_type": "markdown",
   "metadata": {},
   "source": [
    "We can then plot these median salaries using a barplot:"
   ]
  },
  {
   "cell_type": "code",
   "execution_count": null,
   "metadata": {},
   "outputs": [],
   "source": [
    "sns.barplot(x=by_countries.index.levels[1], y=by_countries.Salary.median(level=1), \n",
    "            order=['Tabs', 'Both', 'Spaces'], estimator=np.mean)"
   ]
  },
  {
   "cell_type": "markdown",
   "metadata": {},
   "source": [
    "It is also possible to split the plot according to another variable. We will use this to see whether the salary difference is consistent across countries:"
   ]
  },
  {
   "cell_type": "code",
   "execution_count": null,
   "metadata": {},
   "outputs": [],
   "source": [
    "fig, axes = plt.subplots(3, 2, figsize=(6,10))\n",
    "axes = axes.ravel()\n",
    "for i, c in enumerate(by_countries.index.levels[0]):\n",
    "    sns.barplot(x=by_countries.index.levels[1], y=by_countries.loc[c, 'Salary'], order=['Tabs', 'Both', 'Spaces'], \n",
    "                ax=axes[i]).set_title(c)\n",
    "    axes[i].set(xlabel='', ylabel='')\n",
    "fig.tight_layout()"
   ]
  },
  {
   "cell_type": "markdown",
   "metadata": {},
   "source": [
    "One hypothesis of where the difference comes from is that there might be a difference in preference for spaces over tabs depending on the experience of a developer. We can use a line chart to visualize the salary difference between the groups over changes in experience to check this:"
   ]
  },
  {
   "cell_type": "code",
   "execution_count": null,
   "metadata": {
    "collapsed": true
   },
   "outputs": [],
   "source": [
    "by_years = so.groupby(['TabsSpaces', 'YearsCodedJob']).median().reset_index()\n",
    "sns.pointplot(x=\"YearsCodedJob\", y=\"Salary\", hue=\"TabsSpaces\", data=by_years, order=[\"< 5y\", \"6-10\", \"11-15\", \"15+\"], estimator=np.median)"
   ]
  },
  {
   "cell_type": "markdown",
   "metadata": {},
   "source": [
    "Apparently, the difference is consistent across experience levels, so there must be other factors explaining it. \n",
    "\n",
    "The next hypothesis to check is whether it might depend on the type of developer in question, assuming different developer types with different preferences for spaces or tabs and different salary ranges might explain this difference. To this end, we will use a point chart where we can compare all developer types in two dimensions according to the median salary of developers of this type prefering tabs or spaces, respectively: "
   ]
  },
  {
   "cell_type": "code",
   "execution_count": null,
   "metadata": {},
   "outputs": [],
   "source": [
    "by_type = so[so.TabsSpaces.isin(['Tabs', 'Spaces'])]\n",
    "by_type = by_type[by_type.DeveloperType.notnull()]\n",
    "by_type.DeveloperType = by_type.DeveloperType.str.split(';').apply(lambda x : x[0])\n",
    "by_type = by_type.groupby(['DeveloperType', 'TabsSpaces']).median()\n",
    "by_type = by_type.unstack()['Salary']\n",
    "g = sns.JointGrid(x='Tabs', y='Spaces', data=by_type, size=7)\n",
    "g.plot_joint(plt.scatter)\n",
    "g.ax_marg_x.set_axis_off()\n",
    "g.ax_marg_y.set_axis_off()\n",
    "\n",
    "for row in by_type.iterrows():\n",
    "    xy = (row[1]['Tabs'], row[1]['Spaces'])\n",
    "    plt.gca().annotate(xytext=(2,2), xy=xy, textcoords =\"offset points\", s=row[0])\n",
    "    \n",
    "x0, x1 = g.ax_joint.get_xlim()\n",
    "y0, y1 = g.ax_joint.get_ylim()\n",
    "lims = [max(x0, y0), min(x1, y1)]\n",
    "g.ax_joint.plot(lims, lims, '-r')    "
   ]
  },
  {
   "cell_type": "markdown",
   "metadata": {},
   "source": [
    "The red line gives us a reference for parity between tab and space users, and almost all points being above the line means that among almost all developer types, the salaries of space users are consistently higher than those of tab users.\n",
    "\n",
    "We have thus seen that developers that use spaces earn consistently more than developers using tabs, which leads us to our closing remark for this part of the primer: when performing statistical analyses, never confuse correlation with causation. Developers are very likely not paid more simply *because* they are using spaces instead of tabs, nor are they likely to prefer spaces over tabs *because* they earn more. Rather, it seems more likely that there is a third factor correlated to both a preference for spaces over tabs *and* a higher salary that might explain the difference, but the jury is still out which factor that might be. "
   ]
  }
 ],
 "metadata": {
  "kernelspec": {
   "display_name": "Python 2",
   "language": "python",
   "name": "python2"
  },
  "language_info": {
   "codemirror_mode": {
    "name": "ipython",
    "version": 2
   },
   "file_extension": ".py",
   "mimetype": "text/x-python",
   "name": "python",
   "nbconvert_exporter": "python",
   "pygments_lexer": "ipython2",
   "version": "2.7.12"
  }
 },
 "nbformat": 4,
 "nbformat_minor": 2
}
